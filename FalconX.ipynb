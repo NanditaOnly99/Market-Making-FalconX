{
 "cells": [
  {
   "cell_type": "code",
   "execution_count": 1,
   "id": "3158233d",
   "metadata": {},
   "outputs": [],
   "source": [
    "import pandas as pd\n",
    "\n",
    "day_1 = pd.read_csv('BTCUSDT-trades-2022-03-01.csv')\n",
    "\n",
    "day_2 = pd.read_csv('BTCUSDT-trades-2022-03-02.csv')\n",
    "\n",
    "day_3 = pd.read_csv('BTCUSDT-trades-2022-03-03.csv')"
   ]
  },
  {
   "cell_type": "code",
   "execution_count": 23,
   "id": "516cf209",
   "metadata": {},
   "outputs": [],
   "source": [
    "traded_price_1 = day_1['43160.00000000']\n",
    "traded_size_1 = day_1['0.00056000']\n",
    "traded_notional_1 = day_1['24.16960000']\n",
    "timestamp_1 = day_1['1646092800000']"
   ]
  },
  {
   "cell_type": "code",
   "execution_count": 3,
   "id": "2b8bdf5b",
   "metadata": {},
   "outputs": [],
   "source": [
    "traded_price_2 = day_2['44421.20000000']\n",
    "traded_size_2 = day_2['0.00097000']\n",
    "traded_notional_2 = day_2['43.08856400']\n",
    "timestamp_2 = day_2['1646179200000']"
   ]
  },
  {
   "cell_type": "code",
   "execution_count": 4,
   "id": "f09c4724",
   "metadata": {},
   "outputs": [],
   "source": [
    "traded_price_3 = day_3['43892.99000000']\n",
    "traded_size_3 = day_3['0.00158000']\n",
    "traded_notional_3 = day_3['69.35092420']\n",
    "timestamp_3 = day_3['1646265600000']"
   ]
  },
  {
   "cell_type": "code",
   "execution_count": null,
   "id": "eb7e7be1",
   "metadata": {},
   "outputs": [],
   "source": []
  }
 ],
 "metadata": {
  "kernelspec": {
   "display_name": "Python 3 (ipykernel)",
   "language": "python",
   "name": "python3"
  },
  "language_info": {
   "codemirror_mode": {
    "name": "ipython",
    "version": 3
   },
   "file_extension": ".py",
   "mimetype": "text/x-python",
   "name": "python",
   "nbconvert_exporter": "python",
   "pygments_lexer": "ipython3",
   "version": "3.9.7"
  }
 },
 "nbformat": 4,
 "nbformat_minor": 5
}
